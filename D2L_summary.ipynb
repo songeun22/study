{
  "nbformat": 4,
  "nbformat_minor": 0,
  "metadata": {
    "colab": {
      "provenance": [],
      "gpuType": "T4"
    },
    "kernelspec": {
      "name": "python3",
      "display_name": "Python 3"
    },
    "language_info": {
      "name": "python"
    },
    "accelerator": "GPU"
  },
  "cells": [
    {
      "cell_type": "markdown",
      "source": [
        "### 2. **Preliminaries**\n",
        "#### 2.1. Data Manipulation\n",
        "- Pytorch\n",
        "- MXnet\n",
        "- Jax\n",
        "- tensorflow"
      ],
      "metadata": {
        "id": "PEstOKgYdRM2"
      }
    },
    {
      "cell_type": "code",
      "execution_count": 1,
      "metadata": {
        "colab": {
          "base_uri": "https://localhost:8080/"
        },
        "id": "UktkErp3dPOR",
        "outputId": "2fb27211-d208-4cd5-c6ca-e2234d823f03"
      },
      "outputs": [
        {
          "output_type": "stream",
          "name": "stdout",
          "text": [
            "12\n",
            "torch.Size([12])\n",
            "tensor([[12., 12., 12., 12.],\n",
            "        [12., 12., 12., 12.],\n",
            "        [ 8.,  9., 10., 11.]])\n"
          ]
        }
      ],
      "source": [
        "import torch\n",
        "\n",
        "x = torch.arange(12, dtype = torch.float32)\n",
        "print(x.numel())  # 12\n",
        "print(x.shape) # x is a vector, shape = 12\n",
        "\n",
        "X = x.reshape(3, 4)  # same with .reshape(-1, 4)\n",
        "X[1, 2] = 17\n",
        "X[:2, :] = 12\n",
        "print(X)"
      ]
    },
    {
      "cell_type": "code",
      "source": [
        "X = torch.arange(12, dtype=torch.float32).reshape((3,4))\n",
        "Y = torch.tensor([[2.0, 1, 4, 3], [1, 2, 3, 4], [4, 3, 2, 1]])\n",
        "\n",
        "torch.cat((X, Y), dim = 0)  # dim = 0: row-wisely concatenate"
      ],
      "metadata": {
        "colab": {
          "base_uri": "https://localhost:8080/"
        },
        "id": "b1fQPDBHhUhD",
        "outputId": "56407415-3efd-4ad8-e94d-fbf0a538e365"
      },
      "execution_count": 2,
      "outputs": [
        {
          "output_type": "execute_result",
          "data": {
            "text/plain": [
              "tensor([[ 0.,  1.,  2.,  3.],\n",
              "        [ 4.,  5.,  6.,  7.],\n",
              "        [ 8.,  9., 10., 11.],\n",
              "        [ 2.,  1.,  4.,  3.],\n",
              "        [ 1.,  2.,  3.,  4.],\n",
              "        [ 4.,  3.,  2.,  1.]])"
            ]
          },
          "metadata": {},
          "execution_count": 2
        }
      ]
    },
    {
      "cell_type": "code",
      "source": [
        "# saving memory\n",
        "Z = torch.zeros_like(Y)\n",
        "print('id(Z):', id(Z))\n",
        "Z[:] = X + Y  # Z = X + Y allocates a new memory for 'this' Z\n",
        "print('id(Z):', id(Z))"
      ],
      "metadata": {
        "colab": {
          "base_uri": "https://localhost:8080/"
        },
        "id": "RsyN-9FAhvBt",
        "outputId": "4c45b40b-4346-4932-c459-208fba8b8eb3"
      },
      "execution_count": 3,
      "outputs": [
        {
          "output_type": "stream",
          "name": "stdout",
          "text": [
            "id(Z): 132634479191216\n",
            "id(Z): 132634479191216\n"
          ]
        }
      ]
    },
    {
      "cell_type": "markdown",
      "source": [
        "### 2.1.8. Exercises"
      ],
      "metadata": {
        "id": "YjSeKC2biIpd"
      }
    },
    {
      "cell_type": "code",
      "source": [
        "# 1.\n",
        "print(X < Y) # note that comparison are also done elmentwisely"
      ],
      "metadata": {
        "colab": {
          "base_uri": "https://localhost:8080/"
        },
        "id": "1ICaBz6ViMnC",
        "outputId": "23fa155e-1274-4f26-e0b0-0768fe38b67d"
      },
      "execution_count": 4,
      "outputs": [
        {
          "output_type": "stream",
          "name": "stdout",
          "text": [
            "tensor([[ True, False,  True, False],\n",
            "        [False, False, False, False],\n",
            "        [False, False, False, False]])\n"
          ]
        }
      ]
    },
    {
      "cell_type": "code",
      "source": [
        "# 2.\n",
        "a = torch.arange(12).reshape((2, 2, 3))\n",
        "b = torch.ones(6).reshape((2,3))\n",
        "\n",
        "print(a + b)"
      ],
      "metadata": {
        "colab": {
          "base_uri": "https://localhost:8080/"
        },
        "id": "XIRk7sQ4iWex",
        "outputId": "83e30568-296c-47c4-ecb9-e2239f6eed6b"
      },
      "execution_count": 8,
      "outputs": [
        {
          "output_type": "stream",
          "name": "stdout",
          "text": [
            "tensor([[[ 1.,  2.,  3.],\n",
            "         [ 4.,  5.,  6.]],\n",
            "\n",
            "        [[ 7.,  8.,  9.],\n",
            "         [10., 11., 12.]]])\n"
          ]
        }
      ]
    },
    {
      "cell_type": "markdown",
      "source": [
        "### 2.5. **Automatic Differentiation**\n",
        "Often shorted as *autograd* , this concept is the most basic part of deep learning. \\\\\n",
        "\n",
        "Let the function $f: \\mathcal{R}^n \\rightarrow \\mathcal{R}^m$ gets input $x$ and output $y$. For some loss function $l: \\mathcal{R}^m \\rightarrow \\mathcal{R}$, Pytorch `autograd` computes $J^T \\cdot v$, where $J := J_f$ and $v = ∇_yl$.\n",
        "\n",
        "$$J^T \\cdot v =\n",
        "\\pmatrix{\\frac{\\partial y_1}{\\partial x_1} & \\cdots & \\frac{\\partial y_1}{\\partial x_n} \\\\\n",
        "\\vdots & & \\vdots \\\\\n",
        "\\frac{\\partial y_m}{\\partial x_1} & \\cdots & \\frac{\\partial y_m}{\\partial x_n}}^T\n",
        "\\pmatrix{\n",
        "  \\frac{\\partial{l}}{\\partial y_1} \\\\\n",
        "  \\vdots \\\\\n",
        "  \\frac{\\partial{l}}{\\partial y_m}\n",
        "}$$\n",
        "\n",
        "The matrix $J$ is downstream gradient respect to $x$, and the vector $v$ is an upstream gradient respect to $y$."
      ],
      "metadata": {
        "id": "w1_g9otCm-rN"
      }
    },
    {
      "cell_type": "code",
      "source": [
        "import torch\n",
        "import numpy as np\n",
        "from torch import tensor\n",
        "from numpy import array"
      ],
      "metadata": {
        "id": "Or7BGd2ludLn"
      },
      "execution_count": 1,
      "outputs": []
    },
    {
      "cell_type": "code",
      "source": [
        "# Scalar -> Scalar:\n",
        "# default gradient to y (just jacobian)\n",
        "\n",
        "x = tensor(1., requires_grad= True)\n",
        "print('x:',  x)\n",
        "y = x**2\n",
        "print('y:', y)\n",
        "y.backward()\n",
        "print('x.grad:', x.grad)\n",
        "\n",
        "\n",
        "# non-default gradient to y (v^J)\n",
        "x = tensor(1., requires_grad= True)\n",
        "print('x:',  x)\n",
        "y = x**2\n",
        "print('y:', y)\n",
        "gradient_value = 100  # upstream gradient\n",
        "y.backward(tensor(gradient_value))\n",
        "print('x.grad:', x.grad)"
      ],
      "metadata": {
        "colab": {
          "base_uri": "https://localhost:8080/"
        },
        "id": "mz4Qp4EduzDF",
        "outputId": "47478bd4-f010-42e0-f037-01fa317b6e75"
      },
      "execution_count": 4,
      "outputs": [
        {
          "output_type": "stream",
          "name": "stdout",
          "text": [
            "x: tensor(1., requires_grad=True)\n",
            "y: tensor(1., grad_fn=<PowBackward0>)\n",
            "x.grad: tensor(2.)\n",
            "x: tensor(1., requires_grad=True)\n",
            "y: tensor(1., grad_fn=<PowBackward0>)\n",
            "x.grad: tensor(200.)\n"
          ]
        }
      ]
    },
    {
      "cell_type": "code",
      "source": [
        "# vector -> scalar\n",
        "# default gradient\n",
        "\n",
        "x = tensor([1., 2.], requires_grad = True)\n",
        "print('x:', x)\n",
        "y = sum(x)\n",
        "y.backward()\n",
        "print('x.grad:', x.grad)\n",
        "\n",
        "# non-default gradient\n",
        "x = tensor([1., 2.], requires_grad = True)\n",
        "print('x:', x)\n",
        "y = sum(x)\n",
        "gradient_value = 100.\n",
        "y.backward(tensor(gradient_value))\n",
        "print('x.grad:', x.grad)"
      ],
      "metadata": {
        "colab": {
          "base_uri": "https://localhost:8080/"
        },
        "id": "fpqoHPPEwhzQ",
        "outputId": "110c9bd8-a18e-4cc1-c943-f62596fdc1d9"
      },
      "execution_count": 8,
      "outputs": [
        {
          "output_type": "stream",
          "name": "stdout",
          "text": [
            "x: tensor([1., 2.], requires_grad=True)\n",
            "x.grad: tensor([1., 1.])\n",
            "x: tensor([1., 2.], requires_grad=True)\n",
            "x.grad: tensor([100., 100.])\n"
          ]
        }
      ]
    },
    {
      "cell_type": "code",
      "source": [
        "# vector -> vector\n",
        "\n",
        "x = tensor([1., 2.], requires_grad=True)\n",
        "print('x:', x)\n",
        "y = 3*x**2\n",
        "print('y:', y)\n",
        "gradient_value = [1., 1.]\n",
        "y.backward(tensor(gradient_value))\n",
        "print('x.grad:', x.grad)\n",
        "\n",
        "#  non-one gradient\n",
        "x = tensor([1., 2.], requires_grad=True)\n",
        "print('x:', x)\n",
        "y = 3*x**2\n",
        "print('y:', y)\n",
        "gradient_value = [1., 10.]\n",
        "y.backward(tensor(gradient_value))\n",
        "print('x.grad:', x.grad)"
      ],
      "metadata": {
        "colab": {
          "base_uri": "https://localhost:8080/"
        },
        "id": "Sn-WEB1YxuOA",
        "outputId": "e7048db1-1331-4647-d1d3-20a4fab27f9a"
      },
      "execution_count": 10,
      "outputs": [
        {
          "output_type": "stream",
          "name": "stdout",
          "text": [
            "x: tensor([1., 2.], requires_grad=True)\n",
            "y: tensor([ 3., 12.], grad_fn=<MulBackward0>)\n",
            "x.grad: tensor([ 6., 12.])\n",
            "x: tensor([1., 2.], requires_grad=True)\n",
            "y: tensor([ 3., 12.], grad_fn=<MulBackward0>)\n",
            "x.grad: tensor([  6., 120.])\n"
          ]
        }
      ]
    },
    {
      "cell_type": "code",
      "source": [
        "y = torch.empty(3)\n",
        "print(y)"
      ],
      "metadata": {
        "colab": {
          "base_uri": "https://localhost:8080/"
        },
        "id": "ez628k9vy2Gv",
        "outputId": "813cde05-c159-4ef0-d006-48990f241e95"
      },
      "execution_count": 12,
      "outputs": [
        {
          "output_type": "stream",
          "name": "stdout",
          "text": [
            "tensor([2.5573e-33, 4.3564e-41, 1.3901e-38])\n"
          ]
        }
      ]
    },
    {
      "cell_type": "code",
      "source": [
        "x = tensor([1., 2.], requires_grad=True)\n",
        "print('x:', x)\n",
        "y = torch.empty(3)\n",
        "y[0] = 3*x[0]**2\n",
        "y[1] = x[0]**2 + 2*x[1]**3\n",
        "y[2] = 10*x[1]\n",
        "print('y:', y)\n",
        "gradient_value = [1., 10., 100.,]\n",
        "y.backward(tensor(gradient_value))\n",
        "print('x.grad:', x.grad)"
      ],
      "metadata": {
        "colab": {
          "base_uri": "https://localhost:8080/"
        },
        "id": "0fhVOeYlzMv2",
        "outputId": "f1bcb365-ada9-4e79-8625-9786c8ae8d31"
      },
      "execution_count": 14,
      "outputs": [
        {
          "output_type": "stream",
          "name": "stdout",
          "text": [
            "x: tensor([1., 2.], requires_grad=True)\n",
            "y: tensor([ 3., 17., 20.], grad_fn=<CopySlices>)\n",
            "x.grad: tensor([  26., 1240.])\n"
          ]
        }
      ]
    },
    {
      "cell_type": "markdown",
      "source": [
        "### example: vector function\n",
        "$$x = [x_1, x_2] = [1,2]$$\n",
        "$$y = [3x_1^2, x_1^2 + 2x_2^3, 10x_2]$$"
      ],
      "metadata": {
        "id": "D9wFVb0Ix_wP"
      }
    },
    {
      "cell_type": "code",
      "source": [
        "x = tensor([1., 2.], requires_grad= True)\n",
        "print('x:', x)\n",
        "y = torch.stack([3*x[0]**2, x[0]**2 + 2*x[1]**3, 10*x[1]])  # using tensor directly: no grad_fn error -> preserve grad attribute of x\n",
        "print('y:', y)\n",
        "gradient_value = tensor([1., 10., 100.])\n",
        "y.backward(gradient_value)\n",
        "print('x.grad:', x.grad)"
      ],
      "metadata": {
        "colab": {
          "base_uri": "https://localhost:8080/"
        },
        "id": "VjxYpy0Qx_YS",
        "outputId": "71405b3d-d65c-4f35-91bc-d93ae52ec09c"
      },
      "execution_count": 16,
      "outputs": [
        {
          "output_type": "stream",
          "name": "stdout",
          "text": [
            "x: tensor([1., 2.], requires_grad=True)\n",
            "y: tensor([ 3., 17., 20.], grad_fn=<StackBackward0>)\n",
            "x.grad: tensor([  26., 1240.])\n"
          ]
        }
      ]
    },
    {
      "cell_type": "markdown",
      "source": [
        "#### 2.5.3. **Detaching Computation**\n",
        "- Why needed?\n",
        ": Sometimes, we need auxillary terms which we do not want to compute a gradient. *Detaching* in pytorch means to wiping out the provenance of variable and blocking the gradient flow.\n",
        "\n",
        "e.g.\n",
        "\n",
        "$$ z = x * y, \\quad y = x*x$$"
      ],
      "metadata": {
        "id": "yI4LuFZs0WQd"
      }
    },
    {
      "cell_type": "code",
      "source": [
        "x = torch.arange(4., requires_grad= True)\n",
        "y = x*x\n",
        "u = y.detach()\n",
        "z = u*x  # expected gradient: u (u is regarded as a constant)\n",
        "\n",
        "z.sum().backward()\n",
        "print(x.grad)\n",
        "print(u)"
      ],
      "metadata": {
        "colab": {
          "base_uri": "https://localhost:8080/"
        },
        "id": "TCK0R3BB01o0",
        "outputId": "e949b757-9e4d-4c33-c42b-610c1063b066"
      },
      "execution_count": 24,
      "outputs": [
        {
          "output_type": "stream",
          "name": "stdout",
          "text": [
            "tensor([0., 1., 4., 9.])\n",
            "tensor([0., 1., 4., 9.])\n"
          ]
        }
      ]
    },
    {
      "cell_type": "markdown",
      "source": [
        "#### 2.5.4. **Gradients and Python Control Flow**\n"
      ],
      "metadata": {
        "id": "OWqTvkeK1_yy"
      }
    },
    {
      "cell_type": "code",
      "source": [
        "def f(a):\n",
        "    b = a * 2\n",
        "    while b.norm() < 1000:\n",
        "        b = b * 2\n",
        "    if b.sum() > 0:\n",
        "        c = b\n",
        "    else:\n",
        "        c = 100 * b\n",
        "    return c\n",
        "\n",
        "a = torch.randn(size = (), requires_grad= True)\n",
        "b = f(a)\n",
        "b.backward()\n",
        "print(a.grad)"
      ],
      "metadata": {
        "colab": {
          "base_uri": "https://localhost:8080/"
        },
        "id": "ONDw1qJD2XZD",
        "outputId": "5265bf67-e793-4ea0-afa1-c89813675102"
      },
      "execution_count": 26,
      "outputs": [
        {
          "output_type": "stream",
          "name": "stdout",
          "text": [
            "tensor(2048.)\n"
          ]
        }
      ]
    },
    {
      "cell_type": "markdown",
      "source": [
        "**SUMMARY**: \\\\\n",
        "- Attach gradients to those variables with respect to which we desire derivatives.\n",
        "- Record the computation of the target value\n",
        "- Execute the backpropagation function\n",
        "- Access the resulting gradient"
      ],
      "metadata": {
        "id": "UBliEtPT2vxu"
      }
    },
    {
      "cell_type": "markdown",
      "source": [
        "#### 2.5.6. **Exercises**\n",
        "\n",
        "1. Why is the second derivative much more expensive to compute than the first derivative? \\\\\n",
        "The first derivative is automatically computed throught autograd feature from the computational graph. However, the second derivative needs to be computed from the first derivative function, rather than computed directly through the graph. This makes the computation more complex and expensive.\n",
        "\n",
        "2. After running the function for backpropagation, immediately run it again and see what happens. Investigate."
      ],
      "metadata": {
        "id": "M7WuPtxL2RhO"
      }
    },
    {
      "cell_type": "code",
      "source": [
        "# 2.\n",
        "\n",
        "# vector -> scalar\n",
        "x = torch.arange(4., requires_grad = True)\n",
        "y = sum(x)\n",
        "y.backward()\n",
        "print('x.grad: ', x.grad)\n",
        "y.backward()\n",
        "print('x.grad: ', x.grad) # added to previous gradient result.\n",
        "\n",
        "# vector -> vector\n",
        "x = torch.arange(4., requires_grad = True)\n",
        "y = x**2\n",
        "y.backward(torch.ones(len(y)))\n",
        "print('x.grad: ', x.grad)\n",
        "y.backward(torch.ones(len(y)))  # error: pytorch frees the memory after the optimization\n",
        "print('x.grad: ', x.grad)"
      ],
      "metadata": {
        "colab": {
          "base_uri": "https://localhost:8080/",
          "height": 436
        },
        "id": "sEqdrHQf4CiT",
        "outputId": "2dfedaf7-d7ad-4896-8e4d-8ecc93230938"
      },
      "execution_count": 35,
      "outputs": [
        {
          "output_type": "stream",
          "name": "stdout",
          "text": [
            "x.grad:  tensor([1., 1., 1., 1.])\n",
            "x.grad:  tensor([2., 2., 2., 2.])\n",
            "x.grad:  tensor([0., 2., 4., 6.])\n"
          ]
        },
        {
          "output_type": "error",
          "ename": "RuntimeError",
          "evalue": "Trying to backward through the graph a second time (or directly access saved tensors after they have already been freed). Saved intermediate values of the graph are freed when you call .backward() or autograd.grad(). Specify retain_graph=True if you need to backward through the graph a second time or if you need to access saved tensors after calling backward.",
          "traceback": [
            "\u001b[0;31m---------------------------------------------------------------------------\u001b[0m",
            "\u001b[0;31mRuntimeError\u001b[0m                              Traceback (most recent call last)",
            "\u001b[0;32m<ipython-input-35-98f445e68e44>\u001b[0m in \u001b[0;36m<cell line: 0>\u001b[0;34m()\u001b[0m\n\u001b[1;32m     14\u001b[0m \u001b[0my\u001b[0m\u001b[0;34m.\u001b[0m\u001b[0mbackward\u001b[0m\u001b[0;34m(\u001b[0m\u001b[0mtorch\u001b[0m\u001b[0;34m.\u001b[0m\u001b[0mones\u001b[0m\u001b[0;34m(\u001b[0m\u001b[0mlen\u001b[0m\u001b[0;34m(\u001b[0m\u001b[0my\u001b[0m\u001b[0;34m)\u001b[0m\u001b[0;34m)\u001b[0m\u001b[0;34m)\u001b[0m\u001b[0;34m\u001b[0m\u001b[0;34m\u001b[0m\u001b[0m\n\u001b[1;32m     15\u001b[0m \u001b[0mprint\u001b[0m\u001b[0;34m(\u001b[0m\u001b[0;34m'x.grad: '\u001b[0m\u001b[0;34m,\u001b[0m \u001b[0mx\u001b[0m\u001b[0;34m.\u001b[0m\u001b[0mgrad\u001b[0m\u001b[0;34m)\u001b[0m\u001b[0;34m\u001b[0m\u001b[0;34m\u001b[0m\u001b[0m\n\u001b[0;32m---> 16\u001b[0;31m \u001b[0my\u001b[0m\u001b[0;34m.\u001b[0m\u001b[0mbackward\u001b[0m\u001b[0;34m(\u001b[0m\u001b[0mtorch\u001b[0m\u001b[0;34m.\u001b[0m\u001b[0mones\u001b[0m\u001b[0;34m(\u001b[0m\u001b[0mlen\u001b[0m\u001b[0;34m(\u001b[0m\u001b[0my\u001b[0m\u001b[0;34m)\u001b[0m\u001b[0;34m)\u001b[0m\u001b[0;34m)\u001b[0m\u001b[0;34m\u001b[0m\u001b[0;34m\u001b[0m\u001b[0m\n\u001b[0m\u001b[1;32m     17\u001b[0m \u001b[0mprint\u001b[0m\u001b[0;34m(\u001b[0m\u001b[0;34m'x.grad: '\u001b[0m\u001b[0;34m,\u001b[0m \u001b[0mx\u001b[0m\u001b[0;34m.\u001b[0m\u001b[0mgrad\u001b[0m\u001b[0;34m)\u001b[0m\u001b[0;34m\u001b[0m\u001b[0;34m\u001b[0m\u001b[0m\n",
            "\u001b[0;32m/usr/local/lib/python3.11/dist-packages/torch/_tensor.py\u001b[0m in \u001b[0;36mbackward\u001b[0;34m(self, gradient, retain_graph, create_graph, inputs)\u001b[0m\n\u001b[1;32m    624\u001b[0m                 \u001b[0minputs\u001b[0m\u001b[0;34m=\u001b[0m\u001b[0minputs\u001b[0m\u001b[0;34m,\u001b[0m\u001b[0;34m\u001b[0m\u001b[0;34m\u001b[0m\u001b[0m\n\u001b[1;32m    625\u001b[0m             )\n\u001b[0;32m--> 626\u001b[0;31m         torch.autograd.backward(\n\u001b[0m\u001b[1;32m    627\u001b[0m             \u001b[0mself\u001b[0m\u001b[0;34m,\u001b[0m \u001b[0mgradient\u001b[0m\u001b[0;34m,\u001b[0m \u001b[0mretain_graph\u001b[0m\u001b[0;34m,\u001b[0m \u001b[0mcreate_graph\u001b[0m\u001b[0;34m,\u001b[0m \u001b[0minputs\u001b[0m\u001b[0;34m=\u001b[0m\u001b[0minputs\u001b[0m\u001b[0;34m\u001b[0m\u001b[0;34m\u001b[0m\u001b[0m\n\u001b[1;32m    628\u001b[0m         )\n",
            "\u001b[0;32m/usr/local/lib/python3.11/dist-packages/torch/autograd/__init__.py\u001b[0m in \u001b[0;36mbackward\u001b[0;34m(tensors, grad_tensors, retain_graph, create_graph, grad_variables, inputs)\u001b[0m\n\u001b[1;32m    345\u001b[0m     \u001b[0;31m# some Python versions print out the first line of a multi-line function\u001b[0m\u001b[0;34m\u001b[0m\u001b[0;34m\u001b[0m\u001b[0m\n\u001b[1;32m    346\u001b[0m     \u001b[0;31m# calls in the traceback and some print out the last line\u001b[0m\u001b[0;34m\u001b[0m\u001b[0;34m\u001b[0m\u001b[0m\n\u001b[0;32m--> 347\u001b[0;31m     _engine_run_backward(\n\u001b[0m\u001b[1;32m    348\u001b[0m         \u001b[0mtensors\u001b[0m\u001b[0;34m,\u001b[0m\u001b[0;34m\u001b[0m\u001b[0;34m\u001b[0m\u001b[0m\n\u001b[1;32m    349\u001b[0m         \u001b[0mgrad_tensors_\u001b[0m\u001b[0;34m,\u001b[0m\u001b[0;34m\u001b[0m\u001b[0;34m\u001b[0m\u001b[0m\n",
            "\u001b[0;32m/usr/local/lib/python3.11/dist-packages/torch/autograd/graph.py\u001b[0m in \u001b[0;36m_engine_run_backward\u001b[0;34m(t_outputs, *args, **kwargs)\u001b[0m\n\u001b[1;32m    821\u001b[0m         \u001b[0munregister_hooks\u001b[0m \u001b[0;34m=\u001b[0m \u001b[0m_register_logging_hooks_on_whole_graph\u001b[0m\u001b[0;34m(\u001b[0m\u001b[0mt_outputs\u001b[0m\u001b[0;34m)\u001b[0m\u001b[0;34m\u001b[0m\u001b[0;34m\u001b[0m\u001b[0m\n\u001b[1;32m    822\u001b[0m     \u001b[0;32mtry\u001b[0m\u001b[0;34m:\u001b[0m\u001b[0;34m\u001b[0m\u001b[0;34m\u001b[0m\u001b[0m\n\u001b[0;32m--> 823\u001b[0;31m         return Variable._execution_engine.run_backward(  # Calls into the C++ engine to run the backward pass\n\u001b[0m\u001b[1;32m    824\u001b[0m             \u001b[0mt_outputs\u001b[0m\u001b[0;34m,\u001b[0m \u001b[0;34m*\u001b[0m\u001b[0margs\u001b[0m\u001b[0;34m,\u001b[0m \u001b[0;34m**\u001b[0m\u001b[0mkwargs\u001b[0m\u001b[0;34m\u001b[0m\u001b[0;34m\u001b[0m\u001b[0m\n\u001b[1;32m    825\u001b[0m         )  # Calls into the C++ engine to run the backward pass\n",
            "\u001b[0;31mRuntimeError\u001b[0m: Trying to backward through the graph a second time (or directly access saved tensors after they have already been freed). Saved intermediate values of the graph are freed when you call .backward() or autograd.grad(). Specify retain_graph=True if you need to backward through the graph a second time or if you need to access saved tensors after calling backward."
          ]
        }
      ]
    },
    {
      "cell_type": "markdown",
      "source": [
        "3. In the control flow example where we calculate the derivative of d with respect to a, what would happen if we changed the variable a to a random vector or a matrix? At this point, the result of the calculation f(a) is no longer a scalar. What happens to the result? How do we analyze this?"
      ],
      "metadata": {
        "id": "LZ1SBgPy5DSq"
      }
    },
    {
      "cell_type": "code",
      "source": [
        "a = torch.randn(size = (2, 2), requires_grad= True)\n",
        "b = f(a)\n",
        "b.backward(torch.ones((2,2)))  # elementwise gradient\n",
        "print(a.grad)"
      ],
      "metadata": {
        "colab": {
          "base_uri": "https://localhost:8080/"
        },
        "id": "qiFMgsFQ9aib",
        "outputId": "d61e5669-8fb6-47f7-fd2e-8bb1285dfe2a"
      },
      "execution_count": 36,
      "outputs": [
        {
          "output_type": "stream",
          "name": "stdout",
          "text": [
            "tensor([[51200., 51200.],\n",
            "        [51200., 51200.]])\n"
          ]
        }
      ]
    },
    {
      "cell_type": "markdown",
      "source": [
        "4. Let $f(x) = sinx$. Plot the graph of $f$ and of its derivative $f'$. Do not exploit the fact that $f'(x) = cosx$, but rather use automatic differentiation to get the result."
      ],
      "metadata": {
        "id": "fDAmtzQ55H5c"
      }
    },
    {
      "cell_type": "code",
      "source": [
        "import matplotlib.pyplot as plt\n",
        "\n",
        "f = lambda x: torch.sin(x)\n",
        "\n",
        "x = torch.linspace(-2*torch.pi, 2*torch.pi, 100, requires_grad = True)\n",
        "y = f(x)\n",
        "\n",
        "y.sum().backward()\n",
        "\n",
        "f_der = x.grad\n",
        "\n",
        "x = x.detach().numpy()\n",
        "y = y.detach().numpy()\n",
        "f_der = f_der.detach().numpy()\n",
        "\n",
        "plt.figure(figsize = (8, 5))\n",
        "plt.plot(x, y, color = 'red', label = '$f(x) = sin(x)$')\n",
        "plt.plot(x, f_der, color = 'blue', label = '$f\\'(x) = cos(x)$')\n",
        "plt.legend()"
      ],
      "metadata": {
        "colab": {
          "base_uri": "https://localhost:8080/",
          "height": 463
        },
        "id": "BXSFkyeh9wMj",
        "outputId": "185f8ce3-653f-4d8a-f048-203f683aca98"
      },
      "execution_count": 49,
      "outputs": [
        {
          "output_type": "execute_result",
          "data": {
            "text/plain": [
              "<matplotlib.legend.Legend at 0x796ffe78a850>"
            ]
          },
          "metadata": {},
          "execution_count": 49
        },
        {
          "output_type": "display_data",
          "data": {
            "text/plain": [
              "<Figure size 800x500 with 1 Axes>"
            ],
            "image/png": "[encoded data removed]"
          },
          "metadata": {}
        }
      ]
    },
    {
      "cell_type": "markdown",
      "source": [
        "5. Let $f(x) = ((log x^2) sinx) + x^{-1}$. Write out a dependency graph tracing results from $x$ to $f(x)$. \\\\\n",
        "\\begin{cases}\n",
        " x \\rightarrow x^{-1} \\\\\n",
        " x \\rightarrow  2logx \\\\\n",
        " x \\rightarrow sinx\n",
        "\\end{cases}\n",
        "$$\\Rightarrow (2logx)sinx \\Rightarrow + x^{-1}$$"
      ],
      "metadata": {
        "id": "1o6eAFNgC17D"
      }
    },
    {
      "cell_type": "markdown",
      "source": [
        "8. When might you want to use forward, and when backward, differentiation? Hint: consider the amount of intermediate data needed, the ability to parallelize steps, and the size of matrices and vectors involved.\n",
        "- Forward differentiation might be useful when there are few inputs but many outputs, while backward is useful for big-data analysis.\n"
      ],
      "metadata": {
        "id": "CkvKq2yeD_pe"
      }
    }
  ]
}